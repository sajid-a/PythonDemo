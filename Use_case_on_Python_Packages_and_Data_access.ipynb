{
 "cells": [
  {
   "cell_type": "markdown",
   "metadata": {},
   "source": [
    "# Inbuilt Packages Exercise"
   ]
  },
  {
   "cell_type": "code",
   "execution_count": 3,
   "metadata": {},
   "outputs": [],
   "source": [
    "import os\n",
    "\n",
    "#Write your code here\n",
    "s = os.getcwd()\n",
    "\n",
    "os.mkdir('New Folder')\n",
    "\n",
    "os.chdir('New Folder')\n",
    "q = os.getcwd()\n",
    "os.chdir(s)\n",
    "os.rename('New Folder','New Folder2')\n",
    "os.chdir('New Folder2')\n",
    "p = os.getcwd()\n",
    "os.chdir(s)\n",
    "\n",
    "os.rmdir(\"New Folder2\")\n",
    "w = os.getcwd()"
   ]
  },
  {
   "cell_type": "markdown",
   "metadata": {},
   "source": [
    "# Regular Expression exercise"
   ]
  },
  {
   "cell_type": "markdown",
   "metadata": {},
   "source": [
    "<html>\n",
    "\n",
    " <p style=\"color:Tomato;\">Write a Regular Expression pattern to identify Date format in a \"Date_format.txt\" file</p>"
   ]
  },
  {
   "cell_type": "code",
   "execution_count": 6,
   "metadata": {},
   "outputs": [
    {
     "data": {
      "text/plain": [
       "[\" '24-Jan-2020'\", \" '2-Jan-2020'\", \" '22-Jan-2020'\", \" '6-Jan-2020'\"]"
      ]
     },
     "execution_count": 6,
     "metadata": {},
     "output_type": "execute_result"
    }
   ],
   "source": [
    "import re \n",
    "\n",
    "file = open('Date_format.txt')\n",
    "lines = file.readlines()\n",
    "\n",
    "date = []\n",
    "for line in lines:\n",
    "    date_form = re.search('[\\d]{1,2}-[a-zA-Z]{3}-[\\d]{4}',line)\n",
    "    if date_form != None:\n",
    "       date.append(str(date_form).split(',')[-1].replace('match=','').strip('>'))\n",
    "date"
   ]
  },
  {
   "cell_type": "code",
   "execution_count": null,
   "metadata": {},
   "outputs": [],
   "source": []
  }
 ],
 "metadata": {
  "kernelspec": {
   "display_name": "Python 3",
   "language": "python",
   "name": "python3"
  },
  "language_info": {
   "codemirror_mode": {
    "name": "ipython",
    "version": 3
   },
   "file_extension": ".py",
   "mimetype": "text/x-python",
   "name": "python",
   "nbconvert_exporter": "python",
   "pygments_lexer": "ipython3",
   "version": "3.7.0"
  }
 },
 "nbformat": 4,
 "nbformat_minor": 2
}
