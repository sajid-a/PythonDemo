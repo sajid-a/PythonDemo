{
 "cells": [
  {
   "cell_type": "code",
   "execution_count": 1,
   "metadata": {},
   "outputs": [
    {
     "ename": "ModuleNotFoundError",
     "evalue": "No module named 'Db_connect'",
     "output_type": "error",
     "traceback": [
      "\u001b[1;31m---------------------------------------------------------------------------\u001b[0m",
      "\u001b[1;31mModuleNotFoundError\u001b[0m                       Traceback (most recent call last)",
      "\u001b[1;32m<ipython-input-1-5045436eef8f>\u001b[0m in \u001b[0;36m<module>\u001b[1;34m()\u001b[0m\n\u001b[1;32m----> 1\u001b[1;33m \u001b[1;32mimport\u001b[0m \u001b[0mDb_connect\u001b[0m\u001b[1;33m\u001b[0m\u001b[0m\n\u001b[0m",
      "\u001b[1;31mModuleNotFoundError\u001b[0m: No module named 'Db_connect'"
     ]
    }
   ],
   "source": [
    "import Db_connect.database_connection"
   ]
  },
  {
   "cell_type": "markdown",
   "metadata": {},
   "source": [
    "<html>\n",
    "<br><h3>Built-in packages are:</h3>\n",
    "<br>math    \n",
    "<br>os\n",
    "<br>datetime\n"
   ]
  },
  {
   "cell_type": "code",
   "execution_count": null,
   "metadata": {},
   "outputs": [],
   "source": [
    "import math\n",
    "math.pi"
   ]
  },
  {
   "cell_type": "code",
   "execution_count": null,
   "metadata": {},
   "outputs": [],
   "source": [
    "math.pow(2,4)"
   ]
  },
  {
   "cell_type": "code",
   "execution_count": null,
   "metadata": {},
   "outputs": [],
   "source": [
    "math.sqrt(100)"
   ]
  },
  {
   "cell_type": "code",
   "execution_count": null,
   "metadata": {},
   "outputs": [],
   "source": [
    "math.floor(4.5687)"
   ]
  },
  {
   "cell_type": "code",
   "execution_count": null,
   "metadata": {},
   "outputs": [],
   "source": [
    "import os\n",
    "\n",
    "#Write your code here\n",
    "s = os.getcwd()\n",
    "\n",
    "os.mkdir('New Folder')\n",
    "\n",
    "os.chdir('New Folder')\n",
    "q = os.getcwd()\n",
    "os.chdir(s)\n",
    "os.rename('New Folder','New Folder2')\n",
    "os.chdir('New Folder2')\n",
    "p = os.getcwd()\n",
    "os.chdir(s)\n",
    "\n",
    "os.rmdir(\"New Folder2\")\n",
    "w = os.getcwd()"
   ]
  },
  {
   "cell_type": "code",
   "execution_count": null,
   "metadata": {},
   "outputs": [],
   "source": [
    "import os\n",
    "import datetime\n",
    "\n",
    "def func1(y,m,d,ms,se,da,mi):\n",
    "\n",
    "    input_date = datetime.date(y,m,d)\n",
    "    input_date1= datetime.datetime(y,m,d,ms,se,da,mi)\n",
    "    print(input_date1)\n",
    "    \n",
    "    \n",
    "    t= input_date1 - datetime.timedelta(days = 3,seconds =2 ,microseconds =1 ,minutes =2 )\n",
    "    print(t)\n",
    "    day = t.day \n",
    "    year= input_date1.year\n",
    "    month = input_date1.month\n",
    "    minute= input_date1.minute\n",
    "    second=  input_date1.second \n",
    "    return input_date,input_date1,t,day,year,month,minute,second\n",
    "def func2(y,m,d,ms,se,da,mi):\n",
    "    s='Fri Jan 03 10:34:24 2020'\n",
    "    x= datetime.datetime(y,m,d,ms,se,da,mi)\n",
    "    q= datetime.datetime(y,m,d,ms,se,da,mi).ctime()\n",
    "    z= datetime.datetime(y,m,d,ms,se,da)\n",
    "    print(x)\n",
    "    print(q)\n",
    "    print(z)\n",
    "    return x,q,z\n",
    "\n",
    "func1(2020,5, 9, 1, 2, 3, 4)"
   ]
  },
  {
   "cell_type": "markdown",
   "metadata": {},
   "source": [
    "## Regular Expression Module"
   ]
  },
  {
   "cell_type": "markdown",
   "metadata": {},
   "source": [
    "A regular expression is a pattern that matches strings or pieces of strings."
   ]
  },
  {
   "cell_type": "code",
   "execution_count": null,
   "metadata": {},
   "outputs": [],
   "source": [
    "import re\n",
    "\n",
    "txt = \"The rain in Spain\"\n",
    "x = re.findall(\"ai\", txt)\n",
    "print(x)"
   ]
  },
  {
   "cell_type": "code",
   "execution_count": null,
   "metadata": {},
   "outputs": [],
   "source": [
    "# Program to extract numbers from a string\n",
    "\n",
    "import re\n",
    "\n",
    "string = 'hello 12 hi 89. Howdy 34'\n",
    "pattern = '\\d+'\n",
    "\n",
    "result = re.findall(pattern, string) \n",
    "print(result)"
   ]
  },
  {
   "cell_type": "markdown",
   "metadata": {},
   "source": [
    "### File Handling"
   ]
  },
  {
   "cell_type": "code",
   "execution_count": null,
   "metadata": {},
   "outputs": [],
   "source": [
    "#r = read\n",
    "#r+ = read+write\n",
    "#w = write\n",
    "#w+ = write +read\n",
    "\n",
    "file1 = open(\"test.txt\") \n",
    "  \n",
    "# Reading from file \n",
    "print(file1.read()) \n",
    "  \n",
    "file1.close() "
   ]
  },
  {
   "cell_type": "code",
   "execution_count": null,
   "metadata": {},
   "outputs": [],
   "source": [
    "file1 = open(\"test.txt\",\"a+\") \n",
    "file1.write(\"\\n I am writing\")\n",
    "\n",
    "file1.close() "
   ]
  },
  {
   "cell_type": "code",
   "execution_count": null,
   "metadata": {},
   "outputs": [],
   "source": [
    "file1 = open(\"test.txt\",\"r\") \n",
    "print(file1.readlines())"
   ]
  },
  {
   "cell_type": "code",
   "execution_count": null,
   "metadata": {},
   "outputs": [],
   "source": []
  }
 ],
 "metadata": {
  "kernelspec": {
   "display_name": "Python 3",
   "language": "python",
   "name": "python3"
  },
  "language_info": {
   "codemirror_mode": {
    "name": "ipython",
    "version": 3
   },
   "file_extension": ".py",
   "mimetype": "text/x-python",
   "name": "python",
   "nbconvert_exporter": "python",
   "pygments_lexer": "ipython3",
   "version": "3.7.0"
  }
 },
 "nbformat": 4,
 "nbformat_minor": 2
}
